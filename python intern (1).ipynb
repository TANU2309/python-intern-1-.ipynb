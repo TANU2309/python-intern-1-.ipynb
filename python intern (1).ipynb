{
 "cells": [
  {
   "cell_type": "code",
   "execution_count": 3,
   "id": "ffe8a047-9aa1-47e9-a136-bc65febc181c",
   "metadata": {},
   "outputs": [
    {
     "name": "stdout",
     "output_type": "stream",
     "text": [
      "updated list: [2, 6, 96, 10, 12, 5]\n"
     ]
    }
   ],
   "source": [
    "#creating a list\n",
    "my_list = [2,4,6,8,10,12]\n",
    "\n",
    "#adding an element to the list\n",
    "my_list.append(5)\n",
    "\n",
    "#removing an element from the list\n",
    "my_list.remove(4)\n",
    "\n",
    "#modifying an element in the list\n",
    "my_list[2] = 96\n",
    "\n",
    "print(\"updated list:\" , my_list)\n"
   ]
  },
  {
   "cell_type": "code",
   "execution_count": 5,
   "id": "5a140a43-dc6a-405b-8ab1-51d5cf6057be",
   "metadata": {},
   "outputs": [
    {
     "name": "stdout",
     "output_type": "stream",
     "text": [
      "updated dictionary: {'name': 'ram', 'city': 'chennai', 'gender': 'Male'}\n"
     ]
    }
   ],
   "source": [
    "#crearting a dictionary\n",
    "my_dict = {'name':'ram','age':18,'city':'Bengaluru'}\n",
    "\n",
    "#adding\n",
    "my_dict['gender']='Male'\n",
    "\n",
    "#removing\n",
    "del my_dict['age']\n",
    "\n",
    "#modifying\n",
    "my_dict['city']='chennai'\n",
    "\n",
    "print(\"updated dictionary:\",my_dict)"
   ]
  },
  {
   "cell_type": "code",
   "execution_count": 8,
   "id": "df179802-0a91-4a38-ac36-3299d4d33a2c",
   "metadata": {},
   "outputs": [
    {
     "name": "stdout",
     "output_type": "stream",
     "text": [
      "updated set: {26, 52, 40, 10, 60}\n"
     ]
    }
   ],
   "source": [
    "#creating a set\n",
    "my_set={10,26,32,40,52}\n",
    "\n",
    "#adding\n",
    "my_set.add(60)\n",
    "\n",
    "#removing\n",
    "my_set.remove(32)\n",
    "\n",
    "#modyifying\n",
    "my_set.discard(1)\n",
    "my_set.add(40)\n",
    "\n",
    "print(\"updated set:\",my_set)\n",
    "\n"
   ]
  },
  {
   "cell_type": "code",
   "execution_count": null,
   "id": "612a7292-71e8-44e4-a252-31920152de8f",
   "metadata": {},
   "outputs": [],
   "source": []
  }
 ],
 "metadata": {
  "kernelspec": {
   "display_name": "Python 3 (ipykernel)",
   "language": "python",
   "name": "python3"
  },
  "language_info": {
   "codemirror_mode": {
    "name": "ipython",
    "version": 3
   },
   "file_extension": ".py",
   "mimetype": "text/x-python",
   "name": "python",
   "nbconvert_exporter": "python",
   "pygments_lexer": "ipython3",
   "version": "3.12.3"
  }
 },
 "nbformat": 4,
 "nbformat_minor": 5
}
